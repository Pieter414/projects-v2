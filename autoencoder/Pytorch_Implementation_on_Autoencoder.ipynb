{
  "nbformat": 4,
  "nbformat_minor": 0,
  "metadata": {
    "colab": {
      "provenance": []
    },
    "kernelspec": {
      "name": "python3",
      "display_name": "Python 3"
    },
    "language_info": {
      "name": "python"
    }
  },
  "cells": [
    {
      "cell_type": "markdown",
      "source": [
        "## Import Library"
      ],
      "metadata": {
        "id": "UPBB81zVY6Ik"
      }
    },
    {
      "cell_type": "code",
      "execution_count": 105,
      "metadata": {
        "id": "4xttS7VcXzY9"
      },
      "outputs": [],
      "source": [
        "# !pip install torchviz"
      ]
    },
    {
      "cell_type": "code",
      "source": [
        "import torch\n",
        "import torch.nn as nn\n",
        "import torchvision\n",
        "import matplotlib.pyplot as plt\n",
        "import numpy as np\n",
        "from tqdm import tqdm\n",
        "from collections import OrderedDict\n",
        "from torchviz import make_dot"
      ],
      "metadata": {
        "id": "DbMqwiFRY3U5"
      },
      "execution_count": 106,
      "outputs": []
    },
    {
      "cell_type": "markdown",
      "source": [
        "## Pembuatan Kelas Autoencoder"
      ],
      "metadata": {
        "id": "ClYAJ-MIY9Fp"
      }
    },
    {
      "cell_type": "code",
      "source": [
        "class autoencoder(nn.Module):\n",
        "    def __init__(self):\n",
        "        super().__init__()\n",
        "        layers = [\n",
        "            (\n",
        "                \"conv2d_1\",\n",
        "                nn.Conv2d(in_channels=1, out_channels=2, kernel_size=3, stride=1, padding=0),\n",
        "            ),\n",
        "            (\n",
        "                \"conv2d_2\",\n",
        "                nn.Conv2d(2, 2, kernel_size=3, stride=2, padding=0),\n",
        "            ),\n",
        "            (\n",
        "                \"ReLU_1\",\n",
        "                nn.ReLU(2),\n",
        "            ),\n",
        "            (\n",
        "                \"convtrans2d_1\",\n",
        "                nn.ConvTranspose2d(2, 1, kernel_size=3, stride=2, padding=0),\n",
        "            ),\n",
        "            (\n",
        "                \"convtrans2d_2\",\n",
        "                nn.ConvTranspose2d(1, 1, kernel_size=3, stride=1, padding=0),\n",
        "            ),\n",
        "            (\n",
        "                \"ReLU_2\",\n",
        "                nn.ReLU(1),\n",
        "            )\n",
        "        ]\n",
        "        self.model = nn.Sequential(OrderedDict(layers))\n",
        "\n",
        "        def forward(self, x):\n",
        "            return self.model(x)\n",
        "\n",
        "    def forward(self, x):\n",
        "        return self.model(x)"
      ],
      "metadata": {
        "id": "invtVYeRY5vw"
      },
      "execution_count": 107,
      "outputs": []
    },
    {
      "cell_type": "code",
      "source": [
        "model = autoencoder()\n",
        "model"
      ],
      "metadata": {
        "colab": {
          "base_uri": "https://localhost:8080/"
        },
        "id": "1R2c4Ejqa9Aa",
        "outputId": "c473f053-682c-4c1f-9bd9-24af1f0dd6a2"
      },
      "execution_count": 108,
      "outputs": [
        {
          "output_type": "execute_result",
          "data": {
            "text/plain": [
              "autoencoder(\n",
              "  (model): Sequential(\n",
              "    (conv2d_1): Conv2d(1, 2, kernel_size=(3, 3), stride=(1, 1))\n",
              "    (conv2d_2): Conv2d(2, 2, kernel_size=(3, 3), stride=(2, 2))\n",
              "    (ReLU_1): ReLU(inplace=True)\n",
              "    (convtrans2d_1): ConvTranspose2d(2, 1, kernel_size=(3, 3), stride=(2, 2))\n",
              "    (convtrans2d_2): ConvTranspose2d(1, 1, kernel_size=(3, 3), stride=(1, 1))\n",
              "    (ReLU_2): ReLU(inplace=True)\n",
              "  )\n",
              ")"
            ]
          },
          "metadata": {},
          "execution_count": 108
        }
      ]
    },
    {
      "cell_type": "markdown",
      "source": [
        "## Inisialisasi Bobot dan Bias Kernel 1"
      ],
      "metadata": {
        "id": "_s2rhlO1bTNe"
      }
    },
    {
      "cell_type": "code",
      "source": [
        "# inisialisasi bobot kernel 1\n",
        "\n",
        "conv2d_1_weight = torch.Tensor(\n",
        "    [\n",
        "        [[[2, 0, 2], [0, 2, 0], [2, 0, 2]]],\n",
        "        [[[1, 0, 1], [1, 0, 1], [1, 1, 1]]]\n",
        "    ]\n",
        ")\n",
        "\n",
        "conv2d_1_weight.requires_grad = True\n",
        "conv2d_1_weight"
      ],
      "metadata": {
        "colab": {
          "base_uri": "https://localhost:8080/"
        },
        "id": "tAhsuMG6bWpk",
        "outputId": "bf45cb18-fa07-4243-9cf5-8c344289f561"
      },
      "execution_count": 109,
      "outputs": [
        {
          "output_type": "execute_result",
          "data": {
            "text/plain": [
              "tensor([[[[2., 0., 2.],\n",
              "          [0., 2., 0.],\n",
              "          [2., 0., 2.]]],\n",
              "\n",
              "\n",
              "        [[[1., 0., 1.],\n",
              "          [1., 0., 1.],\n",
              "          [1., 1., 1.]]]], requires_grad=True)"
            ]
          },
          "metadata": {},
          "execution_count": 109
        }
      ]
    },
    {
      "cell_type": "code",
      "source": [
        "model.model.conv2d_1.weight = nn.Parameter(conv2d_1_weight)\n",
        "\n",
        "print(model.model.conv2d_1.weight)\n",
        "print(model.model.conv2d_1.weight.shape)"
      ],
      "metadata": {
        "colab": {
          "base_uri": "https://localhost:8080/"
        },
        "id": "YVOVbQ3WbxOn",
        "outputId": "fc200732-5419-4fa5-8e7a-0052870cf510"
      },
      "execution_count": 110,
      "outputs": [
        {
          "output_type": "stream",
          "name": "stdout",
          "text": [
            "Parameter containing:\n",
            "tensor([[[[2., 0., 2.],\n",
            "          [0., 2., 0.],\n",
            "          [2., 0., 2.]]],\n",
            "\n",
            "\n",
            "        [[[1., 0., 1.],\n",
            "          [1., 0., 1.],\n",
            "          [1., 1., 1.]]]], requires_grad=True)\n",
            "torch.Size([2, 1, 3, 3])\n"
          ]
        }
      ]
    },
    {
      "cell_type": "code",
      "source": [
        "# bias kernel 1\n",
        "conv2d_1_bias = torch.Tensor([1, 2])\n",
        "conv2d_1_bias.requires_grad = True\n",
        "conv2d_1_bias"
      ],
      "metadata": {
        "colab": {
          "base_uri": "https://localhost:8080/"
        },
        "id": "SG8OhkhTcF3u",
        "outputId": "228e3250-1d7a-4b3f-e118-2af3d987154b"
      },
      "execution_count": 111,
      "outputs": [
        {
          "output_type": "execute_result",
          "data": {
            "text/plain": [
              "tensor([1., 2.], requires_grad=True)"
            ]
          },
          "metadata": {},
          "execution_count": 111
        }
      ]
    },
    {
      "cell_type": "code",
      "source": [
        "model.model.conv2d_1.bias = nn.Parameter(\n",
        "    conv2d_1_bias\n",
        ")\n",
        "print(model.model.conv2d_1.bias)"
      ],
      "metadata": {
        "colab": {
          "base_uri": "https://localhost:8080/"
        },
        "id": "J65fL7b0cK1D",
        "outputId": "bcdf6733-c410-4c53-a3af-0e62bfca3830"
      },
      "execution_count": 112,
      "outputs": [
        {
          "output_type": "stream",
          "name": "stdout",
          "text": [
            "Parameter containing:\n",
            "tensor([1., 2.], requires_grad=True)\n"
          ]
        }
      ]
    },
    {
      "cell_type": "markdown",
      "source": [
        "## Inisialisasi Bobot dan Bias Kernel 2"
      ],
      "metadata": {
        "id": "imPu4gaXcqrz"
      }
    },
    {
      "cell_type": "code",
      "source": [
        "# inisialisasi bobot kernel 2\n",
        "conv2d_2_weight = torch.Tensor(\n",
        "    [\n",
        "        [[[1, 0, 1], [1, 1, 1], [0, 0, 0]]],\n",
        "        [[[1, 1, 0], [0, 0, 1], [1, 1, 0]]],\n",
        "        [[[2, 2, 0], [0, 2, 2], [-2, -1, 0]]],\n",
        "        [[[0, 0, 1], [1, 0, 0], [1, 1, 0]]]\n",
        "    ]\n",
        ")\n",
        "\n",
        "conv2d_2_weight = conv2d_2_weight.view(2, 2, 3, 3)\n",
        "conv2d_2_weight.requires_grad = True\n",
        "\n",
        "print(conv2d_2_weight)\n",
        "print(conv2d_2_weight.shape)"
      ],
      "metadata": {
        "colab": {
          "base_uri": "https://localhost:8080/"
        },
        "id": "7ZkAk5A1crZF",
        "outputId": "945ee3c5-ab37-4f7a-8adc-e130877cf808"
      },
      "execution_count": 113,
      "outputs": [
        {
          "output_type": "stream",
          "name": "stdout",
          "text": [
            "tensor([[[[ 1.,  0.,  1.],\n",
            "          [ 1.,  1.,  1.],\n",
            "          [ 0.,  0.,  0.]],\n",
            "\n",
            "         [[ 1.,  1.,  0.],\n",
            "          [ 0.,  0.,  1.],\n",
            "          [ 1.,  1.,  0.]]],\n",
            "\n",
            "\n",
            "        [[[ 2.,  2.,  0.],\n",
            "          [ 0.,  2.,  2.],\n",
            "          [-2., -1.,  0.]],\n",
            "\n",
            "         [[ 0.,  0.,  1.],\n",
            "          [ 1.,  0.,  0.],\n",
            "          [ 1.,  1.,  0.]]]], requires_grad=True)\n",
            "torch.Size([2, 2, 3, 3])\n"
          ]
        }
      ]
    },
    {
      "cell_type": "code",
      "source": [
        "model.model.conv2d_2.weight = nn.Parameter(conv2d_2_weight)\n",
        "\n",
        "print(model.model.conv2d_2.weight)\n",
        "print(model.model.conv2d_2.weight.shape)"
      ],
      "metadata": {
        "colab": {
          "base_uri": "https://localhost:8080/"
        },
        "id": "S21QqvrFhmuj",
        "outputId": "54663377-5629-49bc-f9d4-403d9a0834ac"
      },
      "execution_count": 114,
      "outputs": [
        {
          "output_type": "stream",
          "name": "stdout",
          "text": [
            "Parameter containing:\n",
            "tensor([[[[ 1.,  0.,  1.],\n",
            "          [ 1.,  1.,  1.],\n",
            "          [ 0.,  0.,  0.]],\n",
            "\n",
            "         [[ 1.,  1.,  0.],\n",
            "          [ 0.,  0.,  1.],\n",
            "          [ 1.,  1.,  0.]]],\n",
            "\n",
            "\n",
            "        [[[ 2.,  2.,  0.],\n",
            "          [ 0.,  2.,  2.],\n",
            "          [-2., -1.,  0.]],\n",
            "\n",
            "         [[ 0.,  0.,  1.],\n",
            "          [ 1.,  0.,  0.],\n",
            "          [ 1.,  1.,  0.]]]], requires_grad=True)\n",
            "torch.Size([2, 2, 3, 3])\n"
          ]
        }
      ]
    },
    {
      "cell_type": "code",
      "source": [
        "# bias kernel 2\n",
        "conv2d_2_bias = torch.Tensor([0, 0])\n",
        "conv2d_2_bias.requires_grad = True\n",
        "conv2d_2_bias"
      ],
      "metadata": {
        "colab": {
          "base_uri": "https://localhost:8080/"
        },
        "id": "cmKt_ud0hs1U",
        "outputId": "b03dbed8-b1b4-444c-8b77-4a6dc59e677c"
      },
      "execution_count": 115,
      "outputs": [
        {
          "output_type": "execute_result",
          "data": {
            "text/plain": [
              "tensor([0., 0.], requires_grad=True)"
            ]
          },
          "metadata": {},
          "execution_count": 115
        }
      ]
    },
    {
      "cell_type": "code",
      "source": [
        "model.model.conv2d_2.bias = nn.Parameter(conv2d_2_bias)\n",
        "print(model.model.conv2d_2.bias)"
      ],
      "metadata": {
        "colab": {
          "base_uri": "https://localhost:8080/"
        },
        "id": "IXhtDShqhwQM",
        "outputId": "d2767d08-e3fa-471b-ec0d-f21d109ef55f"
      },
      "execution_count": 116,
      "outputs": [
        {
          "output_type": "stream",
          "name": "stdout",
          "text": [
            "Parameter containing:\n",
            "tensor([0., 0.], requires_grad=True)\n"
          ]
        }
      ]
    },
    {
      "cell_type": "markdown",
      "source": [
        "## Inisialisasi Bobot dan Bias Kernel 3\n"
      ],
      "metadata": {
        "id": "UjuMWmOEh82A"
      }
    },
    {
      "cell_type": "code",
      "source": [
        "# inisialisasi bobot kernel 3\n",
        "convtrans2d_1_weight = torch.Tensor(\n",
        "    [\n",
        "        [[[3, 0, 3], [3, 1, -1], [0, 0, 1]]],\n",
        "        [[[2, 1, 0], [0, 0, 1], [-1, 0, 1]]]\n",
        "    ]\n",
        ")\n",
        "\n",
        "convtrans2d_1_weight.requires_grad = True\n",
        "print(convtrans2d_1_weight)"
      ],
      "metadata": {
        "colab": {
          "base_uri": "https://localhost:8080/"
        },
        "id": "WgXMCiM3h_Zw",
        "outputId": "b253884b-b5d2-4a05-896d-1074c5de544c"
      },
      "execution_count": 117,
      "outputs": [
        {
          "output_type": "stream",
          "name": "stdout",
          "text": [
            "tensor([[[[ 3.,  0.,  3.],\n",
            "          [ 3.,  1., -1.],\n",
            "          [ 0.,  0.,  1.]]],\n",
            "\n",
            "\n",
            "        [[[ 2.,  1.,  0.],\n",
            "          [ 0.,  0.,  1.],\n",
            "          [-1.,  0.,  1.]]]], requires_grad=True)\n"
          ]
        }
      ]
    },
    {
      "cell_type": "code",
      "source": [
        "model.model.convtrans2d_1.weight = nn.Parameter(convtrans2d_1_weight)\n",
        "\n",
        "print(model.model.convtrans2d_1.weight)\n",
        "print(model.model.convtrans2d_1.weight.shape)"
      ],
      "metadata": {
        "colab": {
          "base_uri": "https://localhost:8080/"
        },
        "id": "P0yOklfdjvRX",
        "outputId": "bdb7b335-b356-459d-b473-b75417cf1a60"
      },
      "execution_count": 118,
      "outputs": [
        {
          "output_type": "stream",
          "name": "stdout",
          "text": [
            "Parameter containing:\n",
            "tensor([[[[ 3.,  0.,  3.],\n",
            "          [ 3.,  1., -1.],\n",
            "          [ 0.,  0.,  1.]]],\n",
            "\n",
            "\n",
            "        [[[ 2.,  1.,  0.],\n",
            "          [ 0.,  0.,  1.],\n",
            "          [-1.,  0.,  1.]]]], requires_grad=True)\n",
            "torch.Size([2, 1, 3, 3])\n"
          ]
        }
      ]
    },
    {
      "cell_type": "code",
      "source": [
        "# bias kernel 3\n",
        "convtrans2d_1_bias = torch.Tensor([0])\n",
        "convtrans2d_1_bias.requires_grad = True\n",
        "convtrans2d_1_bias"
      ],
      "metadata": {
        "colab": {
          "base_uri": "https://localhost:8080/"
        },
        "id": "HFJJ96ZLj5gR",
        "outputId": "aeba70dd-de72-44fd-93bc-4e12c4769f9e"
      },
      "execution_count": 119,
      "outputs": [
        {
          "output_type": "execute_result",
          "data": {
            "text/plain": [
              "tensor([0.], requires_grad=True)"
            ]
          },
          "metadata": {},
          "execution_count": 119
        }
      ]
    },
    {
      "cell_type": "code",
      "source": [
        "model.model.convtrans2d_1.bias = nn.Parameter(convtrans2d_1_bias)\n",
        "print(model.model.convtrans2d_1.bias)"
      ],
      "metadata": {
        "colab": {
          "base_uri": "https://localhost:8080/"
        },
        "id": "rqIcTgC5kEIb",
        "outputId": "29c5a4d9-63ec-47ca-b101-09fbd65fade0"
      },
      "execution_count": 120,
      "outputs": [
        {
          "output_type": "stream",
          "name": "stdout",
          "text": [
            "Parameter containing:\n",
            "tensor([0.], requires_grad=True)\n"
          ]
        }
      ]
    },
    {
      "cell_type": "markdown",
      "source": [
        "## Inisialisasi Bobot dan Bias Kernel 4\n"
      ],
      "metadata": {
        "id": "ElndnTKSkMHU"
      }
    },
    {
      "cell_type": "code",
      "source": [
        "# inisialisasi bobot kernel 4\n",
        "convtrans2d_2_weight = torch.Tensor(\n",
        "    [\n",
        "        [[[1, 1, 0], [0, 0, -1], [0, 0, 0]]]\n",
        "    ]\n",
        ")\n",
        "\n",
        "convtrans2d_2_weight.requires_grad = True\n",
        "print(convtrans2d_2_weight)"
      ],
      "metadata": {
        "colab": {
          "base_uri": "https://localhost:8080/"
        },
        "id": "LBW5fxi4kNNq",
        "outputId": "9195d651-0a73-4823-a411-0fb6f746e5f3"
      },
      "execution_count": 121,
      "outputs": [
        {
          "output_type": "stream",
          "name": "stdout",
          "text": [
            "tensor([[[[ 1.,  1.,  0.],\n",
            "          [ 0.,  0., -1.],\n",
            "          [ 0.,  0.,  0.]]]], requires_grad=True)\n"
          ]
        }
      ]
    },
    {
      "cell_type": "code",
      "source": [
        "model.model.convtrans2d_2.weight = nn.Parameter(convtrans2d_2_weight)\n",
        "\n",
        "print(model.model.convtrans2d_2.weight)\n",
        "print(model.model.convtrans2d_2.weight.shape)"
      ],
      "metadata": {
        "colab": {
          "base_uri": "https://localhost:8080/"
        },
        "id": "505xaNUYko7G",
        "outputId": "51aec53c-2c76-4c12-835f-7fb37ca7ce40"
      },
      "execution_count": 122,
      "outputs": [
        {
          "output_type": "stream",
          "name": "stdout",
          "text": [
            "Parameter containing:\n",
            "tensor([[[[ 1.,  1.,  0.],\n",
            "          [ 0.,  0., -1.],\n",
            "          [ 0.,  0.,  0.]]]], requires_grad=True)\n",
            "torch.Size([1, 1, 3, 3])\n"
          ]
        }
      ]
    },
    {
      "cell_type": "code",
      "source": [
        "# bias kernel 4\n",
        "convtrans2d_2_bias = torch.Tensor([1])\n",
        "convtrans2d_2_bias.requires_grad = True\n",
        "convtrans2d_2_bias"
      ],
      "metadata": {
        "colab": {
          "base_uri": "https://localhost:8080/"
        },
        "id": "Tn515Ig7ks61",
        "outputId": "b25f5e67-ffa5-48e2-ba91-9b96904ef0e3"
      },
      "execution_count": 123,
      "outputs": [
        {
          "output_type": "execute_result",
          "data": {
            "text/plain": [
              "tensor([1.], requires_grad=True)"
            ]
          },
          "metadata": {},
          "execution_count": 123
        }
      ]
    },
    {
      "cell_type": "code",
      "source": [
        "model.model.convtrans2d_2.bias = nn.Parameter(convtrans2d_2_bias)\n",
        "print(model.model.convtrans2d_2.bias)"
      ],
      "metadata": {
        "colab": {
          "base_uri": "https://localhost:8080/"
        },
        "id": "tkmLi83bkxnR",
        "outputId": "0c0c69d2-023f-42d6-d90e-c25de8277308"
      },
      "execution_count": 124,
      "outputs": [
        {
          "output_type": "stream",
          "name": "stdout",
          "text": [
            "Parameter containing:\n",
            "tensor([1.], requires_grad=True)\n"
          ]
        }
      ]
    },
    {
      "cell_type": "markdown",
      "source": [
        "## Pengujian Model"
      ],
      "metadata": {
        "id": "2U9O07b9k0Zn"
      }
    },
    {
      "cell_type": "code",
      "source": [
        "input = torch.Tensor(\n",
        "    [\n",
        "        [[1, 0, 0, 1, 0], [0, 0, 0, 1, 0], [1, 0, 1, 0, 1], [1, 1, 1, 0, 1], [0, 1, 0, 1, 0]]\n",
        "    ]\n",
        ")\n",
        "\n",
        "optimizer = torch.optim.SGD(model.parameters(), lr=1e-3)\n",
        "output = model(input)\n",
        "output"
      ],
      "metadata": {
        "colab": {
          "base_uri": "https://localhost:8080/"
        },
        "id": "HLFKUzEZk2AK",
        "outputId": "aaa60e07-6ac9-4dc2-b20b-7ce7b155c3f8"
      },
      "execution_count": 125,
      "outputs": [
        {
          "output_type": "execute_result",
          "data": {
            "text/plain": [
              "tensor([[[270., 316., 224., 178.,   1.],\n",
              "         [178., 237.,   0.,   0.,   0.],\n",
              "         [  0.,   0.,   0.,  47.,  14.],\n",
              "         [  1.,   1.,  47.,   1.,   0.],\n",
              "         [  1.,   1.,   1.,   1.,   1.]]], grad_fn=<AsStridedBackward0>)"
            ]
          },
          "metadata": {},
          "execution_count": 125
        }
      ]
    },
    {
      "cell_type": "code",
      "source": [
        "x = input\n",
        "print(\"Input\")\n",
        "print(x)\n",
        "for i in model.model:\n",
        "    x = i(x)\n",
        "    print(i)\n",
        "    print(x)"
      ],
      "metadata": {
        "colab": {
          "base_uri": "https://localhost:8080/"
        },
        "id": "jK6WJElql-YQ",
        "outputId": "260e33d5-9a74-43fc-e405-eade75666322"
      },
      "execution_count": 126,
      "outputs": [
        {
          "output_type": "stream",
          "name": "stdout",
          "text": [
            "Input\n",
            "tensor([[[1., 0., 0., 1., 0.],\n",
            "         [0., 0., 0., 1., 0.],\n",
            "         [1., 0., 1., 0., 1.],\n",
            "         [1., 1., 1., 0., 1.],\n",
            "         [0., 1., 0., 1., 0.]]])\n",
            "Conv2d(1, 2, kernel_size=(3, 3), stride=(1, 1))\n",
            "tensor([[[7., 3., 7.],\n",
            "         [5., 7., 5.],\n",
            "         [7., 7., 5.]],\n",
            "\n",
            "        [[5., 5., 4.],\n",
            "         [7., 5., 6.],\n",
            "         [7., 5., 7.]]], grad_fn=<SqueezeBackward1>)\n",
            "Conv2d(2, 2, kernel_size=(3, 3), stride=(2, 2))\n",
            "tensor([[[59.]],\n",
            "\n",
            "        [[46.]]], grad_fn=<SqueezeBackward1>)\n",
            "ReLU(inplace=True)\n",
            "tensor([[[59.]],\n",
            "\n",
            "        [[46.]]], grad_fn=<AsStridedBackward0>)\n",
            "ConvTranspose2d(2, 1, kernel_size=(3, 3), stride=(2, 2))\n",
            "tensor([[[269.,  46., 177.],\n",
            "         [177.,  59., -13.],\n",
            "         [-46.,   0., 105.]]], grad_fn=<SqueezeBackward1>)\n",
            "ConvTranspose2d(1, 1, kernel_size=(3, 3), stride=(1, 1))\n",
            "tensor([[[ 270.,  316.,  224.,  178.,    1.],\n",
            "         [ 178.,  237., -222.,  -58., -176.],\n",
            "         [ -45.,  -45.,  -71.,   47.,   14.],\n",
            "         [   1.,    1.,   47.,    1., -104.],\n",
            "         [   1.,    1.,    1.,    1.,    1.]]], grad_fn=<SqueezeBackward1>)\n",
            "ReLU(inplace=True)\n",
            "tensor([[[270., 316., 224., 178.,   1.],\n",
            "         [178., 237.,   0.,   0.,   0.],\n",
            "         [  0.,   0.,   0.,  47.,  14.],\n",
            "         [  1.,   1.,  47.,   1.,   0.],\n",
            "         [  1.,   1.,   1.,   1.,   1.]]], grad_fn=<AsStridedBackward0>)\n"
          ]
        }
      ]
    },
    {
      "cell_type": "markdown",
      "source": [
        "## Pengujian Model untuk nilai Loss"
      ],
      "metadata": {
        "id": "t7jEo5CtmsrT"
      }
    },
    {
      "cell_type": "code",
      "source": [
        "loss = (( output - input ) ** 2).sum()\n",
        "loss.backward()\n",
        "optimizer.step()\n",
        "\n",
        "(( output - input ) ** 2).sum()"
      ],
      "metadata": {
        "colab": {
          "base_uri": "https://localhost:8080/"
        },
        "id": "sxT6OwNSo8xY",
        "outputId": "05886fa2-5fc5-4dd5-dbd4-958b2257fab5"
      },
      "execution_count": 127,
      "outputs": [
        {
          "output_type": "execute_result",
          "data": {
            "text/plain": [
              "tensor(346078., grad_fn=<SumBackward0>)"
            ]
          },
          "metadata": {},
          "execution_count": 127
        }
      ]
    },
    {
      "cell_type": "code",
      "source": [
        "# Hasil konvolusi\n",
        "for i in model.model:\n",
        "    if not isinstance(i, nn.ReLU):\n",
        "        print(i)\n",
        "        print(i.weight.grad)\n",
        "        print(i.bias.grad)"
      ],
      "metadata": {
        "colab": {
          "base_uri": "https://localhost:8080/"
        },
        "id": "A5EPZOhRpQGy",
        "outputId": "09b95016-b6c4-4352-9f55-4e1c31f58678"
      },
      "execution_count": 131,
      "outputs": [
        {
          "output_type": "stream",
          "name": "stdout",
          "text": [
            "Conv2d(1, 2, kernel_size=(3, 3), stride=(1, 1))\n",
            "tensor([[[[ 8906., 21392., 16066.],\n",
            "          [14232., 14232., 24972.],\n",
            "          [62430., 24972., 46364.]]],\n",
            "\n",
            "\n",
            "        [[[21392., 24972., 21392.],\n",
            "          [37458., 28552., 33878.],\n",
            "          [37458., 24972., 37458.]]]])\n",
            "tensor([62430., 58850.])\n",
            "Conv2d(2, 2, kernel_size=(3, 3), stride=(2, 2))\n",
            "tensor([[[[62342., 26718., 62342.],\n",
            "          [44530., 62342., 44530.],\n",
            "          [62342., 62342., 44530.]],\n",
            "\n",
            "         [[44530., 44530., 35624.],\n",
            "          [62342., 44530., 53436.],\n",
            "          [62342., 44530., 62342.]]],\n",
            "\n",
            "\n",
            "        [[[25060., 10740., 25060.],\n",
            "          [17900., 25060., 17900.],\n",
            "          [25060., 25060., 17900.]],\n",
            "\n",
            "         [[17900., 17900., 14320.],\n",
            "          [25060., 17900., 21480.],\n",
            "          [25060., 17900., 25060.]]]])\n",
            "tensor([8906., 3580.])\n",
            "ConvTranspose2d(2, 1, kernel_size=(3, 3), stride=(2, 2))\n",
            "tensor([[[[69030., 63720., 47318.],\n",
            "          [48970., 22420., -1534.],\n",
            "          [-5428.,  -118.,  5546.]]],\n",
            "\n",
            "\n",
            "        [[[53820., 49680., 36892.],\n",
            "          [38180., 17480., -1196.],\n",
            "          [-4232.,   -92.,  4324.]]]])\n",
            "tensor([4236.])\n",
            "ConvTranspose2d(1, 1, kernel_size=(3, 3), stride=(1, 1))\n",
            "tensor([[[[344068., 347042., 139880.],\n",
            "          [127228., 126494.,    976.],\n",
            "          [ -1078.,  22040.,  25446.]]]])\n",
            "tensor([3024.])\n"
          ]
        }
      ]
    },
    {
      "cell_type": "code",
      "source": [
        "# Update bobot dan bias setiap kernel\n",
        "print(\"Nilai dari update bobot dan bias setiap kernel: \\n\")\n",
        "for i in model.model:\n",
        "    if not isinstance(i, nn.ReLU):\n",
        "        print(i)\n",
        "        print(i.weight)\n",
        "        print(i.bias)"
      ],
      "metadata": {
        "colab": {
          "base_uri": "https://localhost:8080/"
        },
        "id": "9gyPD8hPphky",
        "outputId": "7c9976fe-7aaa-40c9-cce8-0ae23e270ac8"
      },
      "execution_count": 132,
      "outputs": [
        {
          "output_type": "stream",
          "name": "stdout",
          "text": [
            "Nilai dari update bobot dan bias setiap kernel: \n",
            "\n",
            "Conv2d(1, 2, kernel_size=(3, 3), stride=(1, 1))\n",
            "Parameter containing:\n",
            "tensor([[[[ -6.9060, -21.3920, -14.0660],\n",
            "          [-14.2320, -12.2320, -24.9720],\n",
            "          [-60.4300, -24.9720, -44.3640]]],\n",
            "\n",
            "\n",
            "        [[[-20.3920, -24.9720, -20.3920],\n",
            "          [-36.4580, -28.5520, -32.8780],\n",
            "          [-36.4580, -23.9720, -36.4580]]]], requires_grad=True)\n",
            "Parameter containing:\n",
            "tensor([-61.4300, -56.8500], requires_grad=True)\n",
            "Conv2d(2, 2, kernel_size=(3, 3), stride=(2, 2))\n",
            "Parameter containing:\n",
            "tensor([[[[-61.3420, -26.7180, -61.3420],\n",
            "          [-43.5300, -61.3420, -43.5300],\n",
            "          [-62.3420, -62.3420, -44.5300]],\n",
            "\n",
            "         [[-43.5300, -43.5300, -35.6240],\n",
            "          [-62.3420, -44.5300, -52.4360],\n",
            "          [-61.3420, -43.5300, -62.3420]]],\n",
            "\n",
            "\n",
            "        [[[-23.0600,  -8.7400, -25.0600],\n",
            "          [-17.9000, -23.0600, -15.9000],\n",
            "          [-27.0600, -26.0600, -17.9000]],\n",
            "\n",
            "         [[-17.9000, -17.9000, -13.3200],\n",
            "          [-24.0600, -17.9000, -21.4800],\n",
            "          [-24.0600, -16.9000, -25.0600]]]], requires_grad=True)\n",
            "Parameter containing:\n",
            "tensor([-8.9060, -3.5800], requires_grad=True)\n",
            "ConvTranspose2d(2, 1, kernel_size=(3, 3), stride=(2, 2))\n",
            "Parameter containing:\n",
            "tensor([[[[-66.0300, -63.7200, -44.3180],\n",
            "          [-45.9700, -21.4200,   0.5340],\n",
            "          [  5.4280,   0.1180,  -4.5460]]],\n",
            "\n",
            "\n",
            "        [[[-51.8200, -48.6800, -36.8920],\n",
            "          [-38.1800, -17.4800,   2.1960],\n",
            "          [  3.2320,   0.0920,  -3.3240]]]], requires_grad=True)\n",
            "Parameter containing:\n",
            "tensor([-4.2360], requires_grad=True)\n",
            "ConvTranspose2d(1, 1, kernel_size=(3, 3), stride=(1, 1))\n",
            "Parameter containing:\n",
            "tensor([[[[-343.0680, -346.0420, -139.8800],\n",
            "          [-127.2280, -126.4940,   -1.9760],\n",
            "          [   1.0780,  -22.0400,  -25.4460]]]], requires_grad=True)\n",
            "Parameter containing:\n",
            "tensor([-2.0240], requires_grad=True)\n"
          ]
        }
      ]
    }
  ]
}